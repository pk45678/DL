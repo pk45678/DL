{
 "cells": [
  {
   "cell_type": "code",
   "execution_count": 3,
   "id": "5a3a0476-feb7-499a-97b3-447647efed42",
   "metadata": {},
   "outputs": [],
   "source": [
    "import matplotlib.pyplot as plt\n",
    "import seaborn as sns\n",
    "import matplotlib as mpl\n",
    "import matplotlib.pylab as pylab\n",
    "import numpy as np\n",
    "\n",
    "%matplotlib inline\n",
    "\n",
    "# Data Preparation\n",
    "import re"
   ]
  },
  {
   "cell_type": "code",
   "execution_count": 4,
   "id": "30c99473-3fd4-4d3b-a348-ac43b219e648",
   "metadata": {},
   "outputs": [],
   "source": [
    "sentences = \"\"\"We are about to study the idea of a computational process.\n",
    "Computational processes are abstract beings that inhabit computers.\n",
    "As they evolve, processes manipulate other abstract things called data.\n",
    "The evolution of a process is directed by a pattern of rules\n",
    "called a program. People create programs to direct processes. In effect,\n",
    "we conjure the spirits of the computer with our spells.\"\"\""
   ]
  },
  {
   "cell_type": "code",
   "execution_count": 5,
   "id": "34886e96-f4cb-4ab0-9ea4-8fd54d277b0c",
   "metadata": {},
   "outputs": [],
   "source": [
    "sentences = re.sub('[^A-Za-z0-9]+', '', sentences)\n",
    "sentences = re.sub(r'(?:^| )\\w(?:$| )',' ',sentences).strip()\n",
    "sentences = sentences.lower()"
   ]
  },
  {
   "cell_type": "code",
   "execution_count": 6,
   "id": "a8968a75-f37d-41df-82e5-d383e8bca15a",
   "metadata": {},
   "outputs": [],
   "source": [
    "words = sentences.split()\n",
    "vocab = set(words)"
   ]
  },
  {
   "cell_type": "code",
   "execution_count": 7,
   "id": "20eab619-2471-44e1-a500-340b66bd3eb3",
   "metadata": {},
   "outputs": [],
   "source": [
    "vocab_size = len(vocab)\n",
    "embed_dim = 10\n",
    "context_size = 2"
   ]
  },
  {
   "cell_type": "code",
   "execution_count": 8,
   "id": "e4fa5e2e-6fc2-40b5-bf6a-7bbe0cd5a4ce",
   "metadata": {},
   "outputs": [],
   "source": [
    "word_to_ix = {word: i for i, word in enumerate(vocab)}\n",
    "ix_to_word = {i: word for i, word in enumerate(vocab)}\n"
   ]
  },
  {
   "cell_type": "code",
   "execution_count": 9,
   "id": "2a034acd-d9b8-4849-83d7-ac86e38bf0b5",
   "metadata": {},
   "outputs": [
    {
     "name": "stdout",
     "output_type": "stream",
     "text": [
      "[]\n"
     ]
    }
   ],
   "source": [
    "data = []\n",
    "for i in range(2, len(words) - 2):\n",
    "    context = [words[i - 2], words[i - 1], words[i + 1], words[i + 2]]\n",
    "    target = words[i]\n",
    "    data.append((context, target))\n",
    "\n",
    "print(data[:5])\n"
   ]
  },
  {
   "cell_type": "code",
   "execution_count": 10,
   "id": "94fa09ee-7d39-4cd9-8ae1-6c84dcbb1ee4",
   "metadata": {},
   "outputs": [],
   "source": [
    "embeddings = np.random.random_sample((vocab_size, embed_dim))"
   ]
  },
  {
   "cell_type": "code",
   "execution_count": 11,
   "id": "17d7850f-81ee-43b3-ba18-de0887625ba5",
   "metadata": {},
   "outputs": [],
   "source": [
    "def linear(m, theta):\n",
    "    w=theta\n",
    "    return m.dot(w)"
   ]
  },
  {
   "cell_type": "code",
   "execution_count": 12,
   "id": "cf4541ca-78c6-4648-8ac3-b09a1623ccf8",
   "metadata": {},
   "outputs": [],
   "source": [
    "def log_softmax(x):\n",
    "    e_x = np.exp(x - np.max(x))\n",
    "    return np.log(e_x / e_x.sum())"
   ]
  },
  {
   "cell_type": "code",
   "execution_count": 13,
   "id": "0ce6054a-3e3f-4ebb-be30-12d711b7ef8f",
   "metadata": {},
   "outputs": [],
   "source": [
    "def log_softmax_crossentropy_with_logits(logits, target):\n",
    "    out = np.zeroes_like(logits)\n",
    "    out[np.arange(len(logits)),target] = 1\n",
    "    softmax = np.exp(logits) / np.exp(logits).sum(axis=-1, keepdims=True)\n",
    "    return (- out + softmax) / logits.shape[0]"
   ]
  },
  {
   "cell_type": "code",
   "execution_count": 14,
   "id": "75407d1e-96c7-4b41-bec6-e0b9d89c8c0b",
   "metadata": {},
   "outputs": [],
   "source": [
    "def NLLLoss(logs, targets):\n",
    "    out = logs[range(len(targets)), targets]\n",
    "    return -out.sum() / len(out)\n"
   ]
  },
  {
   "cell_type": "code",
   "execution_count": 15,
   "id": "472ff3eb-5d0d-4ef4-8add-cf125ca390d9",
   "metadata": {},
   "outputs": [],
   "source": [
    "def log_softmax_crossentropy_with_logits(logits, target):\n",
    "    out = np.zeros_like(logits)\n",
    "    out[np.arange(len(logits)), target] = 1\n",
    "    softmax = np.exp(logits) / np.exp(logits).sum(axis=-1, keepdims=True)\n",
    "    return (-out + softmax) / logits.shape[0]\n",
    "\n"
   ]
  },
  {
   "cell_type": "code",
   "execution_count": 16,
   "id": "6add4097-404f-455b-8abd-43115bb19803",
   "metadata": {},
   "outputs": [],
   "source": [
    "def backward(preds, theta, target_idxs):\n",
    "    m,n,o = preds\n",
    "    dlog = log_softmax_crossentropy_with_logits(n, target_idxs)\n",
    "    dw.m.T.dot(dlog)\n",
    "    return dw\n"
   ]
  },
  {
   "cell_type": "code",
   "execution_count": 17,
   "id": "e73a78c9-8027-456b-be2a-a3fcaf6a1fbc",
   "metadata": {},
   "outputs": [],
   "source": [
    "def optimize(theta, grad, lr=0.03):\n",
    "    theta -= grad*lr\n",
    "    return theta\n"
   ]
  },
  {
   "cell_type": "code",
   "execution_count": 18,
   "id": "62e1df73-0e55-4d72-8fb8-ae48037d66dc",
   "metadata": {},
   "outputs": [],
   "source": [
    "theta = np.random.uniform(-1, 1, (2* context_size * embed_dim, vocab_size))"
   ]
  },
  {
   "cell_type": "code",
   "execution_count": 19,
   "id": "e3396565-db4a-453c-b48b-f0c07a2e9a98",
   "metadata": {},
   "outputs": [],
   "source": [
    "epoch_losses = {}\n",
    "for epoch in range(80):\n",
    "    losses = []\n",
    "    for context, target in data:\n",
    "        context_idxs = np.array([word_to_ix[w] for w in context])\n",
    "        preds = forward(context_idxs, theta)\n",
    "        target_idxs = np.array([word_to_ix[target]])\n",
    "        loss = NLLLoss(preds[-1], target_idxs)\n",
    "        losses.append(loss)\n",
    "        grad = backward(preds, theta, target_idxs)\n",
    "        theta = optimize(theta, grad, lr=0.03)\n",
    "    epoch_losses[epoch] = losses\n"
   ]
  },
  {
   "cell_type": "code",
   "execution_count": 27,
   "id": "4bf808c5-21c1-48e0-be2b-f0e226d9eee6",
   "metadata": {},
   "outputs": [],
   "source": [
    "# ix = np.arange(0, 80)\n",
    "# fig = plt.figure()\n",
    "# fig.suptitle('Epoch/Losses', fontsize=20)\n",
    "# plt.plot(ix, [epoch_losses[i][0] for i in ix])\n",
    "# plt.xlabel('Epochs', fontsize=12)\n",
    "# plt.ylabel('Losses', fontsize=12)\n"
   ]
  },
  {
   "cell_type": "code",
   "execution_count": 24,
   "id": "43ba2666-7884-4ecd-9594-588d50a994ec",
   "metadata": {},
   "outputs": [],
   "source": [
    "# def predict(words):\n",
    "#     context_idxs = np.array([word_to_ix[w] for w in words])\n",
    "#     preds = forward(context_idxs, theta)\n",
    "#     word = ix_to_word[np.argmax(preds[-1])]\n",
    "#     return word\n",
    "\n",
    "# # Example usage\n",
    "# predict(['we', 'are', 'to', 'study'])\n"
   ]
  },
  {
   "cell_type": "code",
   "execution_count": 25,
   "id": "6ee51f17-413d-47b9-82e9-420653d37c9f",
   "metadata": {},
   "outputs": [],
   "source": [
    "# def accuracy():\n",
    "#     wrong = 0\n",
    "#     # for context, target in data:\n",
    "#         if predict(context) != target:\n",
    "#             wrong += 1\n",
    "#     return 1 - (wrong / len(data))\n",
    "\n",
    "# # Example usage\n",
    "# accuracy()\n"
   ]
  },
  {
   "cell_type": "code",
   "execution_count": 26,
   "id": "ecd85ec6-3e75-45c5-8285-fb6324688a2d",
   "metadata": {},
   "outputs": [],
   "source": [
    "# Example usage\n",
    "# predict(['processes', 'manipulate', 'things', 'study'])\n"
   ]
  },
  {
   "cell_type": "code",
   "execution_count": null,
   "id": "59467638-249e-4637-a63d-7d353d489d3f",
   "metadata": {},
   "outputs": [],
   "source": []
  }
 ],
 "metadata": {
  "kernelspec": {
   "display_name": "Python 3 (ipykernel)",
   "language": "python",
   "name": "python3"
  },
  "language_info": {
   "codemirror_mode": {
    "name": "ipython",
    "version": 3
   },
   "file_extension": ".py",
   "mimetype": "text/x-python",
   "name": "python",
   "nbconvert_exporter": "python",
   "pygments_lexer": "ipython3",
   "version": "3.11.7"
  }
 },
 "nbformat": 4,
 "nbformat_minor": 5
}
